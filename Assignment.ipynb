{
 "cells": [
  {
   "cell_type": "code",
   "execution_count": 1,
   "id": "cd3b9395",
   "metadata": {},
   "outputs": [],
   "source": [
    "import warnings\n",
    "warnings.filterwarnings(\"ignore\")"
   ]
  },
  {
   "cell_type": "markdown",
   "id": "6275713a",
   "metadata": {},
   "source": [
    "## IMPORTS"
   ]
  },
  {
   "cell_type": "code",
   "execution_count": 2,
   "id": "a97b9d37",
   "metadata": {},
   "outputs": [],
   "source": [
    "import numpy as np\n",
    "import matplotlib.pyplot as plt\n",
    "\n",
    "import yfinance as yf\n",
    "import scipy.stats as si\n",
    "\n",
    "plt.style.use('seaborn')"
   ]
  },
  {
   "cell_type": "markdown",
   "id": "31d61888",
   "metadata": {},
   "source": [
    "## 1."
   ]
  },
  {
   "cell_type": "markdown",
   "id": "d053edab",
   "metadata": {},
   "source": [
    "### Numpy"
   ]
  },
  {
   "cell_type": "code",
   "execution_count": 3,
   "id": "f1223f74",
   "metadata": {},
   "outputs": [
    {
     "data": {
      "text/plain": [
       "array([ 0.,  1.,  2.,  3.,  4.,  5.,  6.,  7.,  8.,  9., 10., 11., 12.,\n",
       "       13., 14.])"
      ]
     },
     "execution_count": 3,
     "metadata": {},
     "output_type": "execute_result"
    }
   ],
   "source": [
    "a = np.arange(15, dtype=np.float)\n",
    "a"
   ]
  },
  {
   "cell_type": "markdown",
   "id": "4514b384",
   "metadata": {},
   "source": [
    "built-in methods for an ndarray class"
   ]
  },
  {
   "cell_type": "code",
   "execution_count": 4,
   "id": "79bf12f0",
   "metadata": {},
   "outputs": [
    {
     "data": {
      "text/plain": [
       "7.0"
      ]
     },
     "execution_count": 4,
     "metadata": {},
     "output_type": "execute_result"
    }
   ],
   "source": [
    "# AVERAGE\n",
    "a.mean()"
   ]
  },
  {
   "cell_type": "code",
   "execution_count": 5,
   "id": "e9120491",
   "metadata": {},
   "outputs": [
    {
     "data": {
      "text/plain": [
       "4.320493798938574"
      ]
     },
     "execution_count": 5,
     "metadata": {},
     "output_type": "execute_result"
    }
   ],
   "source": [
    "# STANDARD DEVIATION\n",
    "a.std()"
   ]
  },
  {
   "cell_type": "markdown",
   "id": "e5c3a4db",
   "metadata": {},
   "source": [
    "#### Basic Vecrization code"
   ]
  },
  {
   "cell_type": "code",
   "execution_count": 6,
   "id": "589bc8f4",
   "metadata": {},
   "outputs": [],
   "source": [
    "a = np.arange(1, 16).reshape((5, 3))\n",
    "b = np.arange(1, 16).reshape((5, 3)) * np.random.randn()"
   ]
  },
  {
   "cell_type": "code",
   "execution_count": 7,
   "id": "54fa0933",
   "metadata": {},
   "outputs": [
    {
     "data": {
      "text/plain": [
       "array([[ 1,  2,  3],\n",
       "       [ 4,  5,  6],\n",
       "       [ 7,  8,  9],\n",
       "       [10, 11, 12],\n",
       "       [13, 14, 15]])"
      ]
     },
     "execution_count": 7,
     "metadata": {},
     "output_type": "execute_result"
    }
   ],
   "source": [
    "a"
   ]
  },
  {
   "cell_type": "code",
   "execution_count": 8,
   "id": "279b4d59",
   "metadata": {},
   "outputs": [
    {
     "data": {
      "text/plain": [
       "array([[ 0.7256066 ,  1.4512132 ,  2.1768198 ],\n",
       "       [ 2.9024264 ,  3.628033  ,  4.35363959],\n",
       "       [ 5.07924619,  5.80485279,  6.53045939],\n",
       "       [ 7.25606599,  7.98167259,  8.70727919],\n",
       "       [ 9.43288579, 10.15849239, 10.88409899]])"
      ]
     },
     "execution_count": 8,
     "metadata": {},
     "output_type": "execute_result"
    }
   ],
   "source": [
    "b"
   ]
  },
  {
   "cell_type": "markdown",
   "id": "a1f1116e",
   "metadata": {},
   "source": [
    "####  Sum"
   ]
  },
  {
   "cell_type": "code",
   "execution_count": 9,
   "id": "f821fca9",
   "metadata": {},
   "outputs": [
    {
     "data": {
      "text/plain": [
       "array([[ 1.7256066 ,  3.4512132 ,  5.1768198 ],\n",
       "       [ 6.9024264 ,  8.628033  , 10.35363959],\n",
       "       [12.07924619, 13.80485279, 15.53045939],\n",
       "       [17.25606599, 18.98167259, 20.70727919],\n",
       "       [22.43288579, 24.15849239, 25.88409899]])"
      ]
     },
     "execution_count": 9,
     "metadata": {},
     "output_type": "execute_result"
    }
   ],
   "source": [
    "a + b"
   ]
  },
  {
   "cell_type": "markdown",
   "id": "4a715ebd",
   "metadata": {},
   "source": [
    "#### Subtraction"
   ]
  },
  {
   "cell_type": "code",
   "execution_count": 10,
   "id": "f638c2eb",
   "metadata": {},
   "outputs": [
    {
     "data": {
      "text/plain": [
       "array([[0.2743934 , 0.5487868 , 0.8231802 ],\n",
       "       [1.0975736 , 1.371967  , 1.64636041],\n",
       "       [1.92075381, 2.19514721, 2.46954061],\n",
       "       [2.74393401, 3.01832741, 3.29272081],\n",
       "       [3.56711421, 3.84150761, 4.11590101]])"
      ]
     },
     "execution_count": 10,
     "metadata": {},
     "output_type": "execute_result"
    }
   ],
   "source": [
    "a - b"
   ]
  },
  {
   "cell_type": "markdown",
   "id": "fc7abe94",
   "metadata": {},
   "source": [
    "#### Cuutom Operation"
   ]
  },
  {
   "cell_type": "code",
   "execution_count": 11,
   "id": "37c990a1",
   "metadata": {},
   "outputs": [],
   "source": [
    "def custom(x):\n",
    "    return np.sin(x) + x * np.exp(x)"
   ]
  },
  {
   "cell_type": "code",
   "execution_count": 12,
   "id": "9524d6d5",
   "metadata": {},
   "outputs": [
    {
     "data": {
      "text/plain": [
       "array([[3.55975281e+00, 1.56874096e+01, 6.03977308e+01],\n",
       "       [2.17635798e+02, 7.41106871e+02, 2.42029335e+03],\n",
       "       [7.67708910e+03, 2.38486533e+04, 7.29281675e+04],\n",
       "       [2.20264114e+05, 6.58614559e+05, 1.95305696e+06],\n",
       "       [5.75137452e+06, 1.68364610e+07, 4.90352612e+07]])"
      ]
     },
     "execution_count": 12,
     "metadata": {},
     "output_type": "execute_result"
    }
   ],
   "source": [
    "custom(a)"
   ]
  },
  {
   "cell_type": "code",
   "execution_count": 13,
   "id": "52dde096",
   "metadata": {},
   "outputs": [
    {
     "data": {
      "text/plain": [
       "array([[2.16268094e+00, 7.18705674e+00, 2.00175909e+01],\n",
       "       [5.31141576e+01, 1.36086993e+02, 3.37606888e+02],\n",
       "       [8.15062218e+02, 1.92620709e+03, 4.47826664e+03],\n",
       "       [1.02802946e+04, 2.33619296e+04, 5.26515544e+04],\n",
       "       [1.17840559e+05, 2.62183489e+05, 5.80357858e+05]])"
      ]
     },
     "execution_count": 13,
     "metadata": {},
     "output_type": "execute_result"
    }
   ],
   "source": [
    "custom(b)"
   ]
  },
  {
   "cell_type": "code",
   "execution_count": 23,
   "id": "9e235a61",
   "metadata": {},
   "outputs": [],
   "source": [
    "import yfinance as yf"
   ]
  },
  {
   "cell_type": "markdown",
   "id": "fa4e66e6",
   "metadata": {},
   "source": [
    "### YFinance"
   ]
  },
  {
   "cell_type": "markdown",
   "id": "63baecbb",
   "metadata": {},
   "source": [
    "#### Download Data"
   ]
  },
  {
   "cell_type": "code",
   "execution_count": 14,
   "id": "84bf2dd0",
   "metadata": {},
   "outputs": [
    {
     "name": "stdout",
     "output_type": "stream",
     "text": [
      "[*********************100%***********************]  1 of 1 completed\n"
     ]
    }
   ],
   "source": [
    "data = yf.download(\"GOOG\", start=\"2021-02-01\", end=\"2022-02-01\")"
   ]
  },
  {
   "cell_type": "code",
   "execution_count": 15,
   "id": "2e5c44b7",
   "metadata": {},
   "outputs": [
    {
     "data": {
      "text/html": [
       "<div>\n",
       "<style scoped>\n",
       "    .dataframe tbody tr th:only-of-type {\n",
       "        vertical-align: middle;\n",
       "    }\n",
       "\n",
       "    .dataframe tbody tr th {\n",
       "        vertical-align: top;\n",
       "    }\n",
       "\n",
       "    .dataframe thead th {\n",
       "        text-align: right;\n",
       "    }\n",
       "</style>\n",
       "<table border=\"1\" class=\"dataframe\">\n",
       "  <thead>\n",
       "    <tr style=\"text-align: right;\">\n",
       "      <th></th>\n",
       "      <th>Open</th>\n",
       "      <th>High</th>\n",
       "      <th>Low</th>\n",
       "      <th>Close</th>\n",
       "      <th>Adj Close</th>\n",
       "      <th>Volume</th>\n",
       "    </tr>\n",
       "    <tr>\n",
       "      <th>Date</th>\n",
       "      <th></th>\n",
       "      <th></th>\n",
       "      <th></th>\n",
       "      <th></th>\n",
       "      <th></th>\n",
       "      <th></th>\n",
       "    </tr>\n",
       "  </thead>\n",
       "  <tbody>\n",
       "    <tr>\n",
       "      <th>2021-02-01</th>\n",
       "      <td>1853.569946</td>\n",
       "      <td>1922.391968</td>\n",
       "      <td>1850.930054</td>\n",
       "      <td>1901.349976</td>\n",
       "      <td>1901.349976</td>\n",
       "      <td>1602200</td>\n",
       "    </tr>\n",
       "    <tr>\n",
       "      <th>2021-02-02</th>\n",
       "      <td>1922.560059</td>\n",
       "      <td>1955.760010</td>\n",
       "      <td>1914.489990</td>\n",
       "      <td>1927.510010</td>\n",
       "      <td>1927.510010</td>\n",
       "      <td>2273700</td>\n",
       "    </tr>\n",
       "    <tr>\n",
       "      <th>2021-02-03</th>\n",
       "      <td>2073.000000</td>\n",
       "      <td>2116.500000</td>\n",
       "      <td>2018.380005</td>\n",
       "      <td>2070.070068</td>\n",
       "      <td>2070.070068</td>\n",
       "      <td>4118200</td>\n",
       "    </tr>\n",
       "    <tr>\n",
       "      <th>2021-02-04</th>\n",
       "      <td>2068.889893</td>\n",
       "      <td>2078.550049</td>\n",
       "      <td>2042.589966</td>\n",
       "      <td>2062.370117</td>\n",
       "      <td>2062.370117</td>\n",
       "      <td>1852300</td>\n",
       "    </tr>\n",
       "    <tr>\n",
       "      <th>2021-02-05</th>\n",
       "      <td>2070.000000</td>\n",
       "      <td>2102.510010</td>\n",
       "      <td>2059.330078</td>\n",
       "      <td>2098.000000</td>\n",
       "      <td>2098.000000</td>\n",
       "      <td>1535100</td>\n",
       "    </tr>\n",
       "  </tbody>\n",
       "</table>\n",
       "</div>"
      ],
      "text/plain": [
       "                   Open         High          Low        Close    Adj Close  \\\n",
       "Date                                                                          \n",
       "2021-02-01  1853.569946  1922.391968  1850.930054  1901.349976  1901.349976   \n",
       "2021-02-02  1922.560059  1955.760010  1914.489990  1927.510010  1927.510010   \n",
       "2021-02-03  2073.000000  2116.500000  2018.380005  2070.070068  2070.070068   \n",
       "2021-02-04  2068.889893  2078.550049  2042.589966  2062.370117  2062.370117   \n",
       "2021-02-05  2070.000000  2102.510010  2059.330078  2098.000000  2098.000000   \n",
       "\n",
       "             Volume  \n",
       "Date                 \n",
       "2021-02-01  1602200  \n",
       "2021-02-02  2273700  \n",
       "2021-02-03  4118200  \n",
       "2021-02-04  1852300  \n",
       "2021-02-05  1535100  "
      ]
     },
     "execution_count": 15,
     "metadata": {},
     "output_type": "execute_result"
    }
   ],
   "source": [
    "data.head()"
   ]
  },
  {
   "cell_type": "markdown",
   "id": "fc7adf9d",
   "metadata": {},
   "source": [
    "### Matplotlib"
   ]
  },
  {
   "cell_type": "code",
   "execution_count": 16,
   "id": "c27a87dc",
   "metadata": {},
   "outputs": [
    {
     "data": {
      "text/plain": [
       "Text(0.5, 1.0, 'Gamma Plot')"
      ]
     },
     "execution_count": 16,
     "metadata": {},
     "output_type": "execute_result"
    },
    {
     "data": {
      "image/png": "[encoded data removed]",
      "text/plain": [
       "<Figure size 648x432 with 1 Axes>"
      ]
     },
     "metadata": {},
     "output_type": "display_data"
    }
   ],
   "source": [
    "import matplotlib.pyplot as plt\n",
    "\n",
    "np.random.seed(42)\n",
    "y = np.random.gamma(1, size=25)\n",
    "x = np.arange(len(y))\n",
    "\n",
    "plt.figure(figsize=(9, 6))\n",
    "plt.scatter(x, y)\n",
    "plt.xlabel('index')\n",
    "plt.ylabel('value')\n",
    "plt.title('Gamma Plot')"
   ]
  },
  {
   "cell_type": "markdown",
   "id": "c01ac797",
   "metadata": {},
   "source": [
    "## Sinh and Cosh plot"
   ]
  },
  {
   "cell_type": "code",
   "execution_count": 17,
   "id": "7b773b79",
   "metadata": {},
   "outputs": [
    {
     "data": {
      "text/plain": [
       "[<matplotlib.lines.Line2D at 0x280f77add90>]"
      ]
     },
     "execution_count": 17,
     "metadata": {},
     "output_type": "execute_result"
    },
    {
     "data": {
      "image/png": "[encoded data removed]",
      "text/plain": [
       "<Figure size 576x396 with 1 Axes>"
      ]
     },
     "metadata": {},
     "output_type": "display_data"
    }
   ],
   "source": [
    "x = np.linspace(0,10,100)\n",
    "\n",
    "fig = plt.figure()\n",
    "plt.plot(x, np.sinh(x), '-')\n",
    "plt.plot(x, np.cosh(x), '--')"
   ]
  },
  {
   "cell_type": "markdown",
   "id": "8488f814",
   "metadata": {},
   "source": [
    "## 2."
   ]
  },
  {
   "cell_type": "markdown",
   "id": "d2b51125",
   "metadata": {},
   "source": [
    "## Implied Volatility"
   ]
  },
  {
   "cell_type": "markdown",
   "id": "bb6d1d4a",
   "metadata": {},
   "source": [
    "The Newton-Rahpson approach is one of the most efficient methods for estimating implied volatility using market observed price and the theoretical Black-Scholes model."
   ]
  },
  {
   "cell_type": "markdown",
   "id": "accfc009",
   "metadata": {},
   "source": [
    "The general description of this method starts with a function f() for which we want to find.\n",
    "$$ f(x) = 0 $$\n",
    "\n",
    "The function f() needs to be differentiable. Given a first guess $x_{0}$, iterate by \n",
    "$$x_{i+1} = x_{i} - \\frac{f(x_{i})}{f^{'}(x_{i})}$$\n",
    "until\n",
    "$$\\mid f(x_{i})\\mid < \\xi$$\n",
    "where $\\xi$ is the desired accuracy"
   ]
  },
  {
   "cell_type": "markdown",
   "id": "6d8c57fd",
   "metadata": {},
   "source": [
    "In our case $$f(x) = C_{obs} - C_{\\sigma}$$\n",
    "\n",
    "and, each new iteration will calculate\n",
    "$$\\sigma_{i+1} = \\sigma_{i} + \\frac{f(x)}{f^{'}(x)}$$"
   ]
  },
  {
   "cell_type": "code",
   "execution_count": 18,
   "id": "ea3052e3",
   "metadata": {},
   "outputs": [
    {
     "name": "stdout",
     "output_type": "stream",
     "text": [
      "[*********************100%***********************]  1 of 1 completed\n"
     ]
    }
   ],
   "source": [
    "TSLA = yf.download(\"TSLA\", start=\"2021-05-20\", end=\"2022-05-20\")"
   ]
  },
  {
   "cell_type": "code",
   "execution_count": 19,
   "id": "e0f5b61c",
   "metadata": {},
   "outputs": [
    {
     "name": "stdout",
     "output_type": "stream",
     "text": [
      "The annualised volatility is 57.45 %\n"
     ]
    }
   ],
   "source": [
    "# 12 months annualized volatility\n",
    "log_return = np.log(TSLA['Adj Close'] / TSLA['Adj Close'].shift(1))\n",
    "vol_h = np.sqrt(252) * log_return.std()\n",
    "print('The annualised volatility is', round(vol_h*100,2), '%')"
   ]
  },
  {
   "cell_type": "code",
   "execution_count": 20,
   "id": "24fb24a0",
   "metadata": {},
   "outputs": [
    {
     "name": "stdout",
     "output_type": "stream",
     "text": [
      "The 6 months annualised volatility is 68.49 %\n"
     ]
    }
   ],
   "source": [
    "# 6 months annualized volatility\n",
    "vol_6 = np.sqrt(252) * log_return[125:-1].std()\n",
    "print('The 6 months annualised volatility is', round(vol_6*100,2), '%')"
   ]
  },
  {
   "cell_type": "code",
   "execution_count": 22,
   "id": "81941a45",
   "metadata": {},
   "outputs": [
    {
     "name": "stdout",
     "output_type": "stream",
     "text": [
      "The 6 months annualised volatility is 69.83 %\n"
     ]
    }
   ],
   "source": [
    "# 3 months annualized volatility\n",
    "vol_3 = np.sqrt(252) * log_return[-70:-1].std()\n",
    "print('The 3 months annualised volatility is', round(vol_3*100,2), '%')"
   ]
  },
  {
   "cell_type": "code",
   "execution_count": 24,
   "id": "02a8cf1d",
   "metadata": {},
   "outputs": [],
   "source": [
    "def newton_vol_call(S, K, T, C, r):\n",
    "    \n",
    "    '''\n",
    "    #S: spot price\n",
    "    #K: strike price\n",
    "    #T: time to maturity\n",
    "    #C: Call value\n",
    "    #r: risk free rate\n",
    "    #sigma: volatility of underlying asset\n",
    "    ''' \n",
    "   \n",
    "    MAX_ITERATIONS = 1000\n",
    "    tolerance = 0.000001\n",
    "    \n",
    "    sigma = 0.56\n",
    "    \n",
    "    for i in range(0, MAX_ITERATIONS):\n",
    "        d1 = (np.log(S / K) + (r + 0.5 * sigma ** 2) * T) / (sigma * np.sqrt(T))\n",
    "        d2 = (np.log(S / K) + (r - 0.5 * sigma ** 2) * T) / (sigma * np.sqrt(T))\n",
    "        price = S * si.norm.cdf(d1, 0.0, 1.0) - K * np.exp(-r * T) * si.norm.cdf(d2, 0.0, 1.0)\n",
    "        vega = S * np.sqrt(T) * si.norm.pdf(d1, 0.0, 1.0)\n",
    "\n",
    "        diff = C - price\n",
    "\n",
    "        if (abs(diff) < tolerance):\n",
    "            return sigma\n",
    "        else: \n",
    "            sigma = sigma + diff/vega\n",
    "    return sigma"
   ]
  },
  {
   "cell_type": "code",
   "execution_count": 25,
   "id": "6df25b2e",
   "metadata": {},
   "outputs": [
    {
     "data": {
      "text/html": [
       "<div>\n",
       "<style scoped>\n",
       "    .dataframe tbody tr th:only-of-type {\n",
       "        vertical-align: middle;\n",
       "    }\n",
       "\n",
       "    .dataframe tbody tr th {\n",
       "        vertical-align: top;\n",
       "    }\n",
       "\n",
       "    .dataframe thead th {\n",
       "        text-align: right;\n",
       "    }\n",
       "</style>\n",
       "<table border=\"1\" class=\"dataframe\">\n",
       "  <thead>\n",
       "    <tr style=\"text-align: right;\">\n",
       "      <th></th>\n",
       "      <th>contractSymbol</th>\n",
       "      <th>lastTradeDate</th>\n",
       "      <th>strike</th>\n",
       "      <th>lastPrice</th>\n",
       "      <th>bid</th>\n",
       "      <th>ask</th>\n",
       "      <th>change</th>\n",
       "      <th>percentChange</th>\n",
       "      <th>volume</th>\n",
       "      <th>openInterest</th>\n",
       "      <th>impliedVolatility</th>\n",
       "      <th>inTheMoney</th>\n",
       "      <th>contractSize</th>\n",
       "      <th>currency</th>\n",
       "    </tr>\n",
       "  </thead>\n",
       "  <tbody>\n",
       "    <tr>\n",
       "      <th>0</th>\n",
       "      <td>TSLA220520C00050000</td>\n",
       "      <td>2022-05-19 17:10:10+00:00</td>\n",
       "      <td>50.0</td>\n",
       "      <td>660.65</td>\n",
       "      <td>659.60</td>\n",
       "      <td>661.50</td>\n",
       "      <td>-27.039978</td>\n",
       "      <td>-3.932001</td>\n",
       "      <td>6</td>\n",
       "      <td>39</td>\n",
       "      <td>14.664063</td>\n",
       "      <td>True</td>\n",
       "      <td>REGULAR</td>\n",
       "      <td>USD</td>\n",
       "    </tr>\n",
       "    <tr>\n",
       "      <th>1</th>\n",
       "      <td>TSLA220520C00100000</td>\n",
       "      <td>2022-05-18 16:44:18+00:00</td>\n",
       "      <td>100.0</td>\n",
       "      <td>615.70</td>\n",
       "      <td>609.95</td>\n",
       "      <td>611.70</td>\n",
       "      <td>0.000000</td>\n",
       "      <td>0.000000</td>\n",
       "      <td>1</td>\n",
       "      <td>65</td>\n",
       "      <td>11.378909</td>\n",
       "      <td>True</td>\n",
       "      <td>REGULAR</td>\n",
       "      <td>USD</td>\n",
       "    </tr>\n",
       "    <tr>\n",
       "      <th>2</th>\n",
       "      <td>TSLA220520C00150000</td>\n",
       "      <td>2022-05-19 17:24:23+00:00</td>\n",
       "      <td>150.0</td>\n",
       "      <td>559.89</td>\n",
       "      <td>558.65</td>\n",
       "      <td>560.95</td>\n",
       "      <td>-42.909973</td>\n",
       "      <td>-7.118442</td>\n",
       "      <td>6</td>\n",
       "      <td>94</td>\n",
       "      <td>9.220707</td>\n",
       "      <td>True</td>\n",
       "      <td>REGULAR</td>\n",
       "      <td>USD</td>\n",
       "    </tr>\n",
       "    <tr>\n",
       "      <th>3</th>\n",
       "      <td>TSLA220520C00200000</td>\n",
       "      <td>2022-05-19 13:39:23+00:00</td>\n",
       "      <td>200.0</td>\n",
       "      <td>512.35</td>\n",
       "      <td>509.50</td>\n",
       "      <td>511.60</td>\n",
       "      <td>-22.000000</td>\n",
       "      <td>-4.117152</td>\n",
       "      <td>2</td>\n",
       "      <td>129</td>\n",
       "      <td>6.960939</td>\n",
       "      <td>True</td>\n",
       "      <td>REGULAR</td>\n",
       "      <td>USD</td>\n",
       "    </tr>\n",
       "    <tr>\n",
       "      <th>4</th>\n",
       "      <td>TSLA220520C00250000</td>\n",
       "      <td>2022-05-18 19:57:27+00:00</td>\n",
       "      <td>250.0</td>\n",
       "      <td>460.60</td>\n",
       "      <td>459.10</td>\n",
       "      <td>461.00</td>\n",
       "      <td>0.000000</td>\n",
       "      <td>0.000000</td>\n",
       "      <td>6</td>\n",
       "      <td>21</td>\n",
       "      <td>6.337893</td>\n",
       "      <td>True</td>\n",
       "      <td>REGULAR</td>\n",
       "      <td>USD</td>\n",
       "    </tr>\n",
       "    <tr>\n",
       "      <th>...</th>\n",
       "      <td>...</td>\n",
       "      <td>...</td>\n",
       "      <td>...</td>\n",
       "      <td>...</td>\n",
       "      <td>...</td>\n",
       "      <td>...</td>\n",
       "      <td>...</td>\n",
       "      <td>...</td>\n",
       "      <td>...</td>\n",
       "      <td>...</td>\n",
       "      <td>...</td>\n",
       "      <td>...</td>\n",
       "      <td>...</td>\n",
       "      <td>...</td>\n",
       "    </tr>\n",
       "    <tr>\n",
       "      <th>208</th>\n",
       "      <td>TSLA220520C02375000</td>\n",
       "      <td>2022-05-16 13:30:57+00:00</td>\n",
       "      <td>2375.0</td>\n",
       "      <td>0.01</td>\n",
       "      <td>0.00</td>\n",
       "      <td>0.01</td>\n",
       "      <td>0.000000</td>\n",
       "      <td>0.000000</td>\n",
       "      <td>2</td>\n",
       "      <td>242</td>\n",
       "      <td>4.250005</td>\n",
       "      <td>False</td>\n",
       "      <td>REGULAR</td>\n",
       "      <td>USD</td>\n",
       "    </tr>\n",
       "    <tr>\n",
       "      <th>209</th>\n",
       "      <td>TSLA220520C02400000</td>\n",
       "      <td>2022-05-13 14:11:01+00:00</td>\n",
       "      <td>2400.0</td>\n",
       "      <td>0.01</td>\n",
       "      <td>0.00</td>\n",
       "      <td>0.00</td>\n",
       "      <td>0.000000</td>\n",
       "      <td>0.000000</td>\n",
       "      <td>53</td>\n",
       "      <td>919</td>\n",
       "      <td>0.500005</td>\n",
       "      <td>False</td>\n",
       "      <td>REGULAR</td>\n",
       "      <td>USD</td>\n",
       "    </tr>\n",
       "    <tr>\n",
       "      <th>210</th>\n",
       "      <td>TSLA220520C02425000</td>\n",
       "      <td>2022-05-19 16:32:47+00:00</td>\n",
       "      <td>2425.0</td>\n",
       "      <td>0.01</td>\n",
       "      <td>0.00</td>\n",
       "      <td>0.01</td>\n",
       "      <td>0.000000</td>\n",
       "      <td>0.000000</td>\n",
       "      <td>1</td>\n",
       "      <td>1397</td>\n",
       "      <td>4.250005</td>\n",
       "      <td>False</td>\n",
       "      <td>REGULAR</td>\n",
       "      <td>USD</td>\n",
       "    </tr>\n",
       "    <tr>\n",
       "      <th>211</th>\n",
       "      <td>TSLA220520C02450000</td>\n",
       "      <td>2022-05-12 15:32:20+00:00</td>\n",
       "      <td>2450.0</td>\n",
       "      <td>0.01</td>\n",
       "      <td>0.00</td>\n",
       "      <td>0.00</td>\n",
       "      <td>0.000000</td>\n",
       "      <td>0.000000</td>\n",
       "      <td>2</td>\n",
       "      <td>1931</td>\n",
       "      <td>0.500005</td>\n",
       "      <td>False</td>\n",
       "      <td>REGULAR</td>\n",
       "      <td>USD</td>\n",
       "    </tr>\n",
       "    <tr>\n",
       "      <th>212</th>\n",
       "      <td>TSLA220520C02475000</td>\n",
       "      <td>2022-05-18 13:30:01+00:00</td>\n",
       "      <td>2475.0</td>\n",
       "      <td>0.01</td>\n",
       "      <td>0.00</td>\n",
       "      <td>0.01</td>\n",
       "      <td>0.000000</td>\n",
       "      <td>0.000000</td>\n",
       "      <td>19</td>\n",
       "      <td>18496</td>\n",
       "      <td>4.375005</td>\n",
       "      <td>False</td>\n",
       "      <td>REGULAR</td>\n",
       "      <td>USD</td>\n",
       "    </tr>\n",
       "  </tbody>\n",
       "</table>\n",
       "<p>213 rows × 14 columns</p>\n",
       "</div>"
      ],
      "text/plain": [
       "          contractSymbol             lastTradeDate  strike  lastPrice     bid  \\\n",
       "0    TSLA220520C00050000 2022-05-19 17:10:10+00:00    50.0     660.65  659.60   \n",
       "1    TSLA220520C00100000 2022-05-18 16:44:18+00:00   100.0     615.70  609.95   \n",
       "2    TSLA220520C00150000 2022-05-19 17:24:23+00:00   150.0     559.89  558.65   \n",
       "3    TSLA220520C00200000 2022-05-19 13:39:23+00:00   200.0     512.35  509.50   \n",
       "4    TSLA220520C00250000 2022-05-18 19:57:27+00:00   250.0     460.60  459.10   \n",
       "..                   ...                       ...     ...        ...     ...   \n",
       "208  TSLA220520C02375000 2022-05-16 13:30:57+00:00  2375.0       0.01    0.00   \n",
       "209  TSLA220520C02400000 2022-05-13 14:11:01+00:00  2400.0       0.01    0.00   \n",
       "210  TSLA220520C02425000 2022-05-19 16:32:47+00:00  2425.0       0.01    0.00   \n",
       "211  TSLA220520C02450000 2022-05-12 15:32:20+00:00  2450.0       0.01    0.00   \n",
       "212  TSLA220520C02475000 2022-05-18 13:30:01+00:00  2475.0       0.01    0.00   \n",
       "\n",
       "        ask     change  percentChange  volume  openInterest  \\\n",
       "0    661.50 -27.039978      -3.932001       6            39   \n",
       "1    611.70   0.000000       0.000000       1            65   \n",
       "2    560.95 -42.909973      -7.118442       6            94   \n",
       "3    511.60 -22.000000      -4.117152       2           129   \n",
       "4    461.00   0.000000       0.000000       6            21   \n",
       "..      ...        ...            ...     ...           ...   \n",
       "208    0.01   0.000000       0.000000       2           242   \n",
       "209    0.00   0.000000       0.000000      53           919   \n",
       "210    0.01   0.000000       0.000000       1          1397   \n",
       "211    0.00   0.000000       0.000000       2          1931   \n",
       "212    0.01   0.000000       0.000000      19         18496   \n",
       "\n",
       "     impliedVolatility  inTheMoney contractSize currency  \n",
       "0            14.664063        True      REGULAR      USD  \n",
       "1            11.378909        True      REGULAR      USD  \n",
       "2             9.220707        True      REGULAR      USD  \n",
       "3             6.960939        True      REGULAR      USD  \n",
       "4             6.337893        True      REGULAR      USD  \n",
       "..                 ...         ...          ...      ...  \n",
       "208           4.250005       False      REGULAR      USD  \n",
       "209           0.500005       False      REGULAR      USD  \n",
       "210           4.250005       False      REGULAR      USD  \n",
       "211           0.500005       False      REGULAR      USD  \n",
       "212           4.375005       False      REGULAR      USD  \n",
       "\n",
       "[213 rows x 14 columns]"
      ]
     },
     "execution_count": 25,
     "metadata": {},
     "output_type": "execute_result"
    }
   ],
   "source": [
    "TESLA = yf.Ticker(\"TSLA\")\n",
    "opt = TESLA.option_chain('2022-05-20')\n",
    "opt.calls"
   ]
  },
  {
   "cell_type": "markdown",
   "id": "20b8b675",
   "metadata": {},
   "source": [
    "## Spot price"
   ]
  },
  {
   "cell_type": "code",
   "execution_count": 26,
   "id": "376cedf4",
   "metadata": {},
   "outputs": [
    {
     "name": "stdout",
     "output_type": "stream",
     "text": [
      "The spot price is $ 709.8 .\n"
     ]
    }
   ],
   "source": [
    "\n",
    "S = TSLA['Adj Close'][-1]\n",
    "print('The spot price is $', round(S, 2), '.')"
   ]
  },
  {
   "cell_type": "markdown",
   "id": "ce5d41b9",
   "metadata": {},
   "source": [
    "## Call price"
   ]
  },
  {
   "cell_type": "code",
   "execution_count": 27,
   "id": "17777958",
   "metadata": {},
   "outputs": [
    {
     "data": {
      "text/plain": [
       "117    0.01\n",
       "Name: lastPrice, dtype: float64"
      ]
     },
     "execution_count": 27,
     "metadata": {},
     "output_type": "execute_result"
    }
   ],
   "source": [
    "opt.calls.lastPrice[opt.calls.strike == 1000.00]"
   ]
  },
  {
   "cell_type": "code",
   "execution_count": null,
   "id": "3a7826c1",
   "metadata": {},
   "outputs": [],
   "source": []
  },
  {
   "cell_type": "code",
   "execution_count": 13,
   "id": "33befb9c",
   "metadata": {},
   "outputs": [
    {
     "name": "stdout",
     "output_type": "stream",
     "text": [
      "The implied volatility is 28.72 % for the one-month call with strike $ 1000.00\n"
     ]
    }
   ],
   "source": [
    "impvol = newton_vol_call(S, 1000.00, 4/52, float(opt.calls.lastPrice[opt.calls.strike == 1000.00]), 0.02)\n",
    "print('The implied volatility is', round(impvol*100, 2) , '% for the one-month call with strike $ 1000.00' )\n",
    " "
   ]
  },
  {
   "cell_type": "code",
   "execution_count": null,
   "id": "a83d427c",
   "metadata": {},
   "outputs": [],
   "source": []
  },
  {
   "cell_type": "code",
   "execution_count": null,
   "id": "a807d5c8",
   "metadata": {},
   "outputs": [],
   "source": []
  },
  {
   "cell_type": "markdown",
   "id": "ca5d2226",
   "metadata": {},
   "source": [
    "## 3."
   ]
  },
  {
   "cell_type": "markdown",
   "id": "8fd67b15",
   "metadata": {},
   "source": [
    "## Binomial Tree (CRR Tree)"
   ]
  },
  {
   "cell_type": "markdown",
   "id": "48329929",
   "metadata": {},
   "source": [
    "### Data Input"
   ]
  },
  {
   "cell_type": "markdown",
   "id": "84afb9b4",
   "metadata": {},
   "source": [
    "The Binomial Tree pricing model is a discrete model. Valuation is done iteratively, starting at the end of the tree and going backwards to the beginning (valuation date). The value determined at each stage represents the option's value at that moment in time."
   ]
  },
  {
   "cell_type": "code",
   "execution_count": 1,
   "id": "f7bfa211",
   "metadata": {},
   "outputs": [],
   "source": [
    "S0 = 25            # spot stock price   \n",
    "K = 24             # strike price\n",
    "T = 6/12          # Time to maturity\n",
    "r = 0.05           # Risk free rate    \n",
    "sig = 0.2          # volatility\n",
    "N = 2              # Number of time steps  \n",
    "payoff = \"call\"    # the option type "
   ]
  },
  {
   "cell_type": "markdown",
   "id": "0bd4017a",
   "metadata": {},
   "source": [
    "## Step 1: Create the binomial price tree."
   ]
  },
  {
   "cell_type": "markdown",
   "id": "af46a2ed",
   "metadata": {},
   "source": [
    "At each step, it is assumed that the underlying instrument will move up or down by a specific factor ( u or d) per step of the tree (where, by definition, u ≥ 1 and 0 < d ≤ 1 ). So, if S is the current price, then in the next period the price will either be S_up = Su or S_down = Sd."
   ]
  },
  {
   "cell_type": "markdown",
   "id": "7f063632",
   "metadata": {},
   "source": [
    "# u and d"
   ]
  },
  {
   "cell_type": "code",
   "execution_count": 4,
   "id": "9d08fe1c",
   "metadata": {},
   "outputs": [
    {
     "name": "stdout",
     "output_type": "stream",
     "text": [
      "Price movement UP factor 1.1052 and DOWN factor 0.9048\n"
     ]
    }
   ],
   "source": [
    "dT = float(T) / N                             # Delta t\n",
    "u = np.exp(sig * np.sqrt(dT))                 # up factor\n",
    "d = 1.0 / u                                   # down factor \n",
    "print(f'Price movement UP factor {round(u, 4)} and DOWN factor {round(d, 4)}')"
   ]
  },
  {
   "cell_type": "code",
   "execution_count": 5,
   "id": "204aee3b",
   "metadata": {},
   "outputs": [
    {
     "data": {
      "text/plain": [
       "array([[25.        , 27.62927295, 30.53506895],\n",
       "       [ 0.        , 22.62093545, 25.        ],\n",
       "       [ 0.        ,  0.        , 20.46826883]])"
      ]
     },
     "execution_count": 5,
     "metadata": {},
     "output_type": "execute_result"
    }
   ],
   "source": [
    "S = np.zeros((N + 1, N + 1))\n",
    "S[0, 0] = S0\n",
    "z = 1\n",
    "for t in range(1, N + 1):\n",
    "    for i in range(z):\n",
    "        S[i, t] = S[i, t-1] * u\n",
    "        S[i+1, t] = S[i, t-1] * d\n",
    "    z += 1\n",
    "S"
   ]
  },
  {
   "cell_type": "code",
   "execution_count": 6,
   "id": "93f28536",
   "metadata": {},
   "outputs": [],
   "source": [
    "a = np.exp(r * dT)    # risk free compound return\n",
    "p = (a - d)/ (u - d)  # risk neutral up probability\n",
    "q = 1.0 - p           # risk neutral down probability"
   ]
  },
  {
   "cell_type": "code",
   "execution_count": 7,
   "id": "1e55d076",
   "metadata": {},
   "outputs": [
    {
     "name": "stdout",
     "output_type": "stream",
     "text": [
      "Probalilty for moving  up :  0.5378\n"
     ]
    }
   ],
   "source": [
    "print('Probalilty for moving  up : ', round(p, 4))"
   ]
  },
  {
   "cell_type": "markdown",
   "id": "7aec4ed9",
   "metadata": {},
   "source": [
    "## Step 2: Find option value at each final node."
   ]
  },
  {
   "cell_type": "markdown",
   "id": "8b94faf7",
   "metadata": {},
   "source": [
    "The option value is simply its intrinsic, or exercise, value at each node of the tree, i.e. upon expiry of the option: Max[(K-S n),0] for a put option, where K is the strike price and S n is the spot price of the underlying asset during the n-th period."
   ]
  },
  {
   "cell_type": "code",
   "execution_count": 8,
   "id": "572ec4c0",
   "metadata": {},
   "outputs": [
    {
     "data": {
      "text/plain": [
       "array([[0.        , 0.        , 6.53506895],\n",
       "       [0.        , 0.        , 1.        ],\n",
       "       [0.        , 0.        , 0.        ]])"
      ]
     },
     "execution_count": 8,
     "metadata": {},
     "output_type": "execute_result"
    }
   ],
   "source": [
    "S_T = S[:,-1]\n",
    "V = np.zeros((N + 1, N + 1))\n",
    "if payoff ==\"call\":\n",
    "    V[:,-1] = np.maximum(S_T-K, 0.0)\n",
    "elif payoff ==\"put\":\n",
    "    V[:,-1] = np.maximum(K-S_T, 0.0)\n",
    "V"
   ]
  },
  {
   "cell_type": "markdown",
   "id": "db30c8fd",
   "metadata": {},
   "source": [
    " "
   ]
  },
  {
   "cell_type": "markdown",
   "id": "bf8f5fee",
   "metadata": {},
   "source": [
    " "
   ]
  },
  {
   "cell_type": "markdown",
   "id": "a54238f7",
   "metadata": {},
   "source": [
    "## Step 3: Find option value at earlier nodes."
   ]
  },
  {
   "cell_type": "markdown",
   "id": "e89d1b28",
   "metadata": {},
   "source": [
    "After completing the preceding phase, the option value is computed for each node, starting with the penultimate time step and moving backwards to the first node of the tree (valuation date), where the determined result is the option value."
   ]
  },
  {
   "cell_type": "markdown",
   "id": "822a8326",
   "metadata": {},
   "source": [
    "### European Option"
   ]
  },
  {
   "cell_type": "code",
   "execution_count": 9,
   "id": "5a6ec9f8",
   "metadata": {},
   "outputs": [
    {
     "data": {
      "text/plain": [
       "array([[2.32838692, 3.92740574, 6.53506895],\n",
       "       [0.        , 0.53112761, 1.        ],\n",
       "       [0.        , 0.        , 0.        ]])"
      ]
     },
     "execution_count": 9,
     "metadata": {},
     "output_type": "execute_result"
    }
   ],
   "source": [
    "# for European Option\n",
    "for j in range(N-1, -1, -1):\n",
    "    for i in range(j+1):\n",
    "        V[i,j] = np.exp(-r*dT) * (p * V[i,j + 1] + q * V[i + 1,j + 1])\n",
    "V"
   ]
  },
  {
   "cell_type": "code",
   "execution_count": 10,
   "id": "ad244896",
   "metadata": {},
   "outputs": [
    {
     "name": "stdout",
     "output_type": "stream",
     "text": [
      "European call 2.3284\n"
     ]
    }
   ],
   "source": [
    "print('European ' + payoff, str( round(V[0,0], 4)))"
   ]
  },
  {
   "cell_type": "code",
   "execution_count": null,
   "id": "131f6853",
   "metadata": {},
   "outputs": [],
   "source": []
  }
 ],
 "metadata": {
  "kernelspec": {
   "display_name": "Python 3",
   "language": "python",
   "name": "python3"
  },
  "language_info": {
   "codemirror_mode": {
    "name": "ipython",
    "version": 3
   },
   "file_extension": ".py",
   "mimetype": "text/x-python",
   "name": "python",
   "nbconvert_exporter": "python",
   "pygments_lexer": "ipython3",
   "version": "3.8.0"
  }
 },
 "nbformat": 4,
 "nbformat_minor": 5
}
